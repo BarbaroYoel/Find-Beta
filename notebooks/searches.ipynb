{
 "cells": [
  {
   "cell_type": "code",
   "execution_count": null,
   "metadata": {},
   "outputs": [
    {
     "name": "stdout",
     "output_type": "stream",
     "text": [
      "  municipality                name                                   address  \\\n",
      "0           ce  La Barrita Onbazar    Amenida entre Cruz del Pader e Infanta   \n",
      "1           ce           El Batazo  Primelles 356 entre Santa Teresa y Daois   \n",
      "3           ce    Jorgito's Pizzas    Pedroso entre Infanta y Cruz del Pader   \n",
      "\n",
      "                                            contacts  \\\n",
      "0  {'phone': ['+53 54494741'], 'website': 'labarr...   \n",
      "1  {'phone': ['+53 58050408'], 'website': None, '...   \n",
      "3  {'phone': ['+53 54031349', '78780156'], 'websi...   \n",
      "\n",
      "                           ratings       owner             type specialty  \\\n",
      "0                               {}  particular  bar-restaurante  Pizzeria   \n",
      "1  {'google': 4.5, 'tribago': 3.9}  Particular      Restaurante  Pizzeria   \n",
      "3                               {}  particular      restaurante  Pizzeria   \n",
      "\n",
      "                                               hours  \\\n",
      "0  {'monday': '0900_2300', 'tuesday': '0900_2300'...   \n",
      "1  {'monday': '1100_2200', 'tuesday': '1100_2200'...   \n",
      "3  {'monday': '1100_2300', 'tuesday': '1100_2300'...   \n",
      "\n",
      "                                            services        payment_methods  \\\n",
      "0  {'parking': True, 'reservations': True, 'deliv...         [mn, usd, mlc]   \n",
      "1  {'parking': False, 'reservations': False, 'del...  [mn, usd, mlc, zelle]   \n",
      "3  {'parking': False, 'reservations': False, 'del...         [mn, usd, mlc]   \n",
      "\n",
      "                                                menu  \n",
      "0  {'starters': {'Tostones rellenos': 1300, 'Jamó...  \n",
      "1  {'starters': {}, 'main_courses': {'Pizza de qu...  \n",
      "3  {'starters': {}, 'main_courses': {'Pizza de na...  \n"
     ]
    }
   ],
   "source": [
    "import sys\n",
    "import os\n",
    "\n",
    "parent_directory = os.path.dirname(os.getcwd())\n",
    "folder_path = os.path.join(parent_directory, \"app_functions\")\n",
    "sys.path.append(folder_path)\n",
    "\n",
    "import search as sr \n",
    "import utils as utl\n",
    "\n",
    "df=utl.df\n",
    "\n",
    "municipios_en_ch = sr.restaurantes_por_municipio(df,\"ce\")\n",
    "print(sr.restaurantes_abiertos(df))\n",
    "\n"
   ]
  }
 ],
 "metadata": {
  "kernelspec": {
   "display_name": "Python 3",
   "language": "python",
   "name": "python3"
  },
  "language_info": {
   "codemirror_mode": {
    "name": "ipython",
    "version": 3
   },
   "file_extension": ".py",
   "mimetype": "text/x-python",
   "name": "python",
   "nbconvert_exporter": "python",
   "pygments_lexer": "ipython3",
   "version": "3.12.7"
  }
 },
 "nbformat": 4,
 "nbformat_minor": 2
}
